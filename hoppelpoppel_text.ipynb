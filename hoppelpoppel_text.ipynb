{
 "metadata": {
  "language_info": {
   "codemirror_mode": {
    "name": "ipython",
    "version": 3
   },
   "file_extension": ".py",
   "mimetype": "text/x-python",
   "name": "python",
   "nbconvert_exporter": "python",
   "pygments_lexer": "ipython3",
   "version": "3.8.5-final"
  },
  "orig_nbformat": 2,
  "kernelspec": {
   "name": "python3",
   "display_name": "Python 3.8.5 64-bit (conda)",
   "metadata": {
    "interpreter": {
     "hash": "b3ba2566441a7c06988d0923437866b63cedc61552a5af99d1f4fb67d367b25f"
    }
   }
  }
 },
 "nbformat": 4,
 "nbformat_minor": 2,
 "cells": [
  {
   "cell_type": "code",
   "execution_count": 316,
   "metadata": {},
   "outputs": [],
   "source": [
    "import pandas as pd\n",
    "import bs4\n",
    "from urllib.request import urlopen as uReq\n",
    "from bs4 import BeautifulSoup as soup\n",
    "from itertools import chain\n",
    "import re"
   ]
  },
  {
   "cell_type": "code",
   "execution_count": 317,
   "metadata": {},
   "outputs": [],
   "source": [
    "# Scraping story text\n",
    "\n",
    "my_url = 'https://www.projekt-gutenberg.org/fallada/hoppelpo/chap001.html'\n",
    "\n",
    "uClient = uReq(my_url)\n",
    "page_html = uClient.read()\n",
    "uClient.close()\n",
    "\n",
    "page_soup = soup(page_html, 'html.parser')"
   ]
  },
  {
   "cell_type": "code",
   "execution_count": 318,
   "metadata": {},
   "outputs": [],
   "source": [
    "container = page_soup.find_all('p')\n",
    "container = container[0]"
   ]
  },
  {
   "cell_type": "code",
   "execution_count": 319,
   "metadata": {},
   "outputs": [],
   "source": [
    "title = container.find_all('h3')\n",
    "title = str(title[0])"
   ]
  },
  {
   "cell_type": "code",
   "execution_count": 320,
   "metadata": {},
   "outputs": [],
   "source": [
    "story = container.find_all('p')\n",
    "paragraphs = []\n",
    "for i in story:\n",
    "    paragraphs.append(str(i))"
   ]
  },
  {
   "cell_type": "code",
   "execution_count": 321,
   "metadata": {},
   "outputs": [],
   "source": [
    "for i in range(len(paragraphs)):\n",
    "    paragraphs[i] = paragraphs[i].replace('<p>', '')\n",
    "    paragraphs[i] = paragraphs[i].replace('</p>', '') "
   ]
  },
  {
   "cell_type": "code",
   "execution_count": 322,
   "metadata": {},
   "outputs": [],
   "source": [
    "words = []\n",
    "try:\n",
    "    for i in range(len(paragraphs)):\n",
    "        for j in range(len(paragraphs[i])):\n",
    "            words.append(paragraphs[j].split(' ')) \n",
    "except:\n",
    "    pass"
   ]
  },
  {
   "cell_type": "code",
   "execution_count": 323,
   "metadata": {},
   "outputs": [],
   "source": [
    "# Flatten nested lists in words\n",
    "\n",
    "words = list(chain.from_iterable(words))"
   ]
  },
  {
   "cell_type": "code",
   "execution_count": 329,
   "metadata": {},
   "outputs": [],
   "source": [
    "for i in range(len(words)):\n",
    "        words[i] = words[i].strip()\n",
    "        words[i] = words[i].replace('\\xa0...', '')\n",
    "        words[i] = words[i].replace('<a', '')\n",
    "        words[i] = words[i].replace('</a>', '')\n",
    "        words[i] = words[i].replace('\\n', '')\n",
    "        words[i] = words[i].replace('-', '')\n",
    "        words[i] = words[i].replace('–', '')\n",
    "        words[i] = words[i].replace('.', '')\n",
    "        words[i] = words[i].replace(':', '')\n",
    "        words[i] = words[i].replace(',', '')\n",
    "        words[i] = words[i].replace('>', '')\n",
    "        words[i] = words[i].replace('<', '')\n",
    "        words[i] = words[i].replace('›', '')\n",
    "        words[i] = words[i].replace('‹', '')\n",
    "        words[i] = words[i].replace('?', '')\n",
    "        words[i] = words[i].replace('!', '')\n",
    "        words[i] = words[i].replace('«', '')\n",
    "        words[i] = words[i].replace('»', '')\n",
    "        words[i] = words[i].replace('(', '')\n",
    "        words[i] = words[i].replace(')', '')\n",
    "        words[i] = words[i].replace(' ', '')\n",
    "        words[i] = words[i].replace('title=[\"]lac/Dieter7[\"]/a', '')\n",
    "        words[i] = words[i].replace('title=[\"]suru/Dieter7[\"]/a', '')\n",
    "        words[i] = words[i].replace('title=[\"]Dieter7/lac[\"]', '')\n",
    "        words[i] = re.sub(str('id='+'\"'+'page\\d'+'\"'), '', words[i])\n",
    "        words[i] = re.sub(str('name='+'\"'+'page\\d'+'\"'), '', words[i])"
   ]
  },
  {
   "cell_type": "code",
   "execution_count": 331,
   "metadata": {},
   "outputs": [],
   "source": [
    "df = pd.DataFrame(words)"
   ]
  },
  {
   "cell_type": "code",
   "execution_count": 333,
   "metadata": {},
   "outputs": [
    {
     "output_type": "execute_result",
     "data": {
      "text/plain": [
       "                        0\n",
       "1321                biese\n",
       "1322                sagte\n",
       "1323                  der\n",
       "1324                Vater\n",
       "1325              langsam\n",
       "1326              Komisch\n",
       "1327            plötzlich\n",
       "1328                  war\n",
       "1329                  die\n",
       "1330                 Welt\n",
       "1331               wieder\n",
       "1332                   in\n",
       "1333              Ordnung\n",
       "1334                     \n",
       "1335                     \n",
       "1336                     \n",
       "1337                     \n",
       "1338                     \n",
       "1339                     \n",
       "1340  title=\"Dieter7/lac\""
      ],
      "text/html": "<div>\n<style scoped>\n    .dataframe tbody tr th:only-of-type {\n        vertical-align: middle;\n    }\n\n    .dataframe tbody tr th {\n        vertical-align: top;\n    }\n\n    .dataframe thead th {\n        text-align: right;\n    }\n</style>\n<table border=\"1\" class=\"dataframe\">\n  <thead>\n    <tr style=\"text-align: right;\">\n      <th></th>\n      <th>0</th>\n    </tr>\n  </thead>\n  <tbody>\n    <tr>\n      <th>1321</th>\n      <td>biese</td>\n    </tr>\n    <tr>\n      <th>1322</th>\n      <td>sagte</td>\n    </tr>\n    <tr>\n      <th>1323</th>\n      <td>der</td>\n    </tr>\n    <tr>\n      <th>1324</th>\n      <td>Vater</td>\n    </tr>\n    <tr>\n      <th>1325</th>\n      <td>langsam</td>\n    </tr>\n    <tr>\n      <th>1326</th>\n      <td>Komisch</td>\n    </tr>\n    <tr>\n      <th>1327</th>\n      <td>plötzlich</td>\n    </tr>\n    <tr>\n      <th>1328</th>\n      <td>war</td>\n    </tr>\n    <tr>\n      <th>1329</th>\n      <td>die</td>\n    </tr>\n    <tr>\n      <th>1330</th>\n      <td>Welt</td>\n    </tr>\n    <tr>\n      <th>1331</th>\n      <td>wieder</td>\n    </tr>\n    <tr>\n      <th>1332</th>\n      <td>in</td>\n    </tr>\n    <tr>\n      <th>1333</th>\n      <td>Ordnung</td>\n    </tr>\n    <tr>\n      <th>1334</th>\n      <td></td>\n    </tr>\n    <tr>\n      <th>1335</th>\n      <td></td>\n    </tr>\n    <tr>\n      <th>1336</th>\n      <td></td>\n    </tr>\n    <tr>\n      <th>1337</th>\n      <td></td>\n    </tr>\n    <tr>\n      <th>1338</th>\n      <td></td>\n    </tr>\n    <tr>\n      <th>1339</th>\n      <td></td>\n    </tr>\n    <tr>\n      <th>1340</th>\n      <td>title=\"Dieter7/lac\"</td>\n    </tr>\n  </tbody>\n</table>\n</div>"
     },
     "metadata": {},
     "execution_count": 333
    }
   ],
   "source": [
    "df.tail(20)"
   ]
  },
  {
   "cell_type": "code",
   "execution_count": 328,
   "metadata": {},
   "outputs": [
    {
     "output_type": "stream",
     "name": "stdout",
     "text": [
      "nope\n"
     ]
    }
   ],
   "source": [
    "word = 'sentirad test'\n",
    "\n",
    "for before, after in [(r're$','u'),(r'ir\\w+ \\w+',''),(r'er$','e')]:\n",
    "    changed_word, substitutions  = re.subn(r'ir\\w+ \\w+','', words[i])\n",
    "    if substitutions:\n",
    "        print(changed_word)\n",
    "        break\n",
    "else:\n",
    "    print(\"nope\")"
   ]
  }
 ]
}