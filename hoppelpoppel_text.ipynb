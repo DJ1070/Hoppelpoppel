{
 "metadata": {
  "language_info": {
   "codemirror_mode": {
    "name": "ipython",
    "version": 3
   },
   "file_extension": ".py",
   "mimetype": "text/x-python",
   "name": "python",
   "nbconvert_exporter": "python",
   "pygments_lexer": "ipython3",
   "version": "3.8.5-final"
  },
  "orig_nbformat": 2,
  "kernelspec": {
   "name": "python3",
   "display_name": "Python 3.8.5 64-bit (conda)",
   "metadata": {
    "interpreter": {
     "hash": "b3ba2566441a7c06988d0923437866b63cedc61552a5af99d1f4fb67d367b25f"
    }
   }
  }
 },
 "nbformat": 4,
 "nbformat_minor": 2,
 "cells": [
  {
   "cell_type": "code",
   "execution_count": 147,
   "metadata": {},
   "outputs": [],
   "source": [
    "# This is the children's story \"Hoppelpoppel - wo bist du\" by my most favourite author from the last years, Hans Fallada\n",
    "# as a preparation for a visualization in Tableau.\n",
    "\n",
    "import pandas as pd\n",
    "import numpy as np\n",
    "import bs4\n",
    "from urllib.request import urlopen as uReq\n",
    "from bs4 import BeautifulSoup as soup\n",
    "from itertools import chain\n",
    "import re"
   ]
  },
  {
   "cell_type": "code",
   "execution_count": 148,
   "metadata": {},
   "outputs": [],
   "source": [
    "# Scraping story text\n",
    "\n",
    "my_url = 'https://www.projekt-gutenberg.org/fallada/hoppelpo/chap001.html'\n",
    "\n",
    "uClient = uReq(my_url)\n",
    "page_html = uClient.read()\n",
    "uClient.close()\n",
    "\n",
    "page_soup = soup(page_html, 'html.parser')"
   ]
  },
  {
   "cell_type": "code",
   "execution_count": 149,
   "metadata": {},
   "outputs": [],
   "source": [
    "container = page_soup.find_all('p')\n",
    "container = container[0]"
   ]
  },
  {
   "cell_type": "code",
   "execution_count": 150,
   "metadata": {},
   "outputs": [],
   "source": [
    "title = container.find_all('h3')\n",
    "title = str(title[0])"
   ]
  },
  {
   "cell_type": "code",
   "execution_count": 151,
   "metadata": {},
   "outputs": [],
   "source": [
    "story = container.find_all('p')\n",
    "paragraphs = []\n",
    "for i in story:\n",
    "    paragraphs.append(str(i))"
   ]
  },
  {
   "cell_type": "code",
   "execution_count": 152,
   "metadata": {},
   "outputs": [],
   "source": [
    "for i in range(len(paragraphs)):\n",
    "    paragraphs[i] = paragraphs[i].replace('<p>', '')\n",
    "    paragraphs[i] = paragraphs[i].replace('</p>', '') "
   ]
  },
  {
   "cell_type": "code",
   "execution_count": 153,
   "metadata": {},
   "outputs": [],
   "source": [
    "words = []\n",
    "try:\n",
    "    for i in range(len(paragraphs)):\n",
    "        for j in range(len(paragraphs[i])):\n",
    "            words.append(paragraphs[j].split(' ')) \n",
    "except:\n",
    "    pass"
   ]
  },
  {
   "cell_type": "code",
   "execution_count": 154,
   "metadata": {},
   "outputs": [],
   "source": [
    "# Flatten nested lists in words\n",
    "\n",
    "words = list(chain.from_iterable(words))"
   ]
  },
  {
   "cell_type": "code",
   "execution_count": 155,
   "metadata": {},
   "outputs": [],
   "source": [
    "for i in range(len(words)):\n",
    "        words[i] = words[i].strip()\n",
    "        words[i] = words[i].replace('\\xa0...', '')\n",
    "        words[i] = words[i].replace('<a', '')\n",
    "        words[i] = words[i].replace('</a>', '')\n",
    "        words[i] = words[i].replace('\\n', '')\n",
    "        words[i] = words[i].replace('-', '')\n",
    "        words[i] = words[i].replace('–', '')\n",
    "        words[i] = words[i].replace('.', '')\n",
    "        words[i] = words[i].replace(':', '')\n",
    "        words[i] = words[i].replace(',', '')\n",
    "        words[i] = words[i].replace('>', '')\n",
    "        words[i] = words[i].replace('<', '')\n",
    "        words[i] = words[i].replace('›', '')\n",
    "        words[i] = words[i].replace('‹', '')\n",
    "        words[i] = words[i].replace('?', '')\n",
    "        words[i] = words[i].replace('!', '')\n",
    "        words[i] = words[i].replace('«', '')\n",
    "        words[i] = words[i].replace('»', '')\n",
    "        words[i] = words[i].replace('(', '')\n",
    "        words[i] = words[i].replace(')', '')\n",
    "        words[i] = words[i].replace(' ', '')\n",
    "        words[i] = re.sub(str('id='+'\"'+'page\\d'+'\"'), '', words[i])\n",
    "        words[i] = re.sub(str('name='+'\"'+'page\\d'+'\"'), '', words[i])"
   ]
  },
  {
   "cell_type": "code",
   "execution_count": 156,
   "metadata": {},
   "outputs": [],
   "source": [
    "# Remove empty strings in words\n",
    "\n",
    "while(\"\" in words) :\n",
    "    words.remove(\"\")"
   ]
  },
  {
   "cell_type": "code",
   "execution_count": 157,
   "metadata": {},
   "outputs": [],
   "source": [
    "df = pd.DataFrame(words)"
   ]
  },
  {
   "cell_type": "code",
   "execution_count": 158,
   "metadata": {},
   "outputs": [],
   "source": [
    "df.reset_index(inplace = True)"
   ]
  },
  {
   "cell_type": "code",
   "execution_count": 159,
   "metadata": {},
   "outputs": [],
   "source": [
    "#df.columns = ['rank', 'text']\n",
    "df.columns = ['rank', 'text']\n",
    "df['text2'] = ''"
   ]
  },
  {
   "cell_type": "code",
   "execution_count": 160,
   "metadata": {},
   "outputs": [],
   "source": [
    "# Cleaning last HTML code\n",
    "\n",
    "part1 = df[df.text == 'title=\"Dieter7/lac\"']\n",
    "part2 = df[df.text == 'title=\"suru/Dieter7\"']\n",
    "part3 = df[df.text == 'title=\"lac/Dieter7\"']\n",
    "eraser = pd.concat([part1, part2, part3])\n",
    "\n",
    "erank = []\n",
    "for i in range(len(eraser)):\n",
    "    erank.append(int(eraser.index[i]))\n",
    "\n",
    "for i in erank:\n",
    "    df = df.drop([i])"
   ]
  },
  {
   "cell_type": "code",
   "execution_count": 161,
   "metadata": {},
   "outputs": [],
   "source": [
    "df.reset_index(drop = True, inplace = True)"
   ]
  },
  {
   "cell_type": "code",
   "execution_count": 162,
   "metadata": {},
   "outputs": [],
   "source": [
    "df = df.drop('rank', axis = 1)"
   ]
  },
  {
   "cell_type": "code",
   "execution_count": 163,
   "metadata": {},
   "outputs": [],
   "source": [
    "df.reset_index(inplace = True)"
   ]
  },
  {
   "cell_type": "code",
   "execution_count": 164,
   "metadata": {},
   "outputs": [],
   "source": [
    "df.columns = ['rank', 'text', 'text2']"
   ]
  },
  {
   "cell_type": "code",
   "execution_count": 165,
   "metadata": {},
   "outputs": [
    {
     "output_type": "stream",
     "name": "stderr",
     "text": [
      "<ipython-input-165-d31fb755fdcd>:6: SettingWithCopyWarning: \nA value is trying to be set on a copy of a slice from a DataFrame\n\nSee the caveats in the documentation: https://pandas.pydata.org/pandas-docs/stable/user_guide/indexing.html#returning-a-view-versus-a-copy\n  df['text2'][i] = df.text[i+1]\n"
     ]
    }
   ],
   "source": [
    "# Fill 'text2' with text from previous row\n",
    "\n",
    "for i in range(len(df)-1):\n",
    "    if i < len(df):\n",
    "        try:\n",
    "            df['text2'][i] = df.text[i+1] \n",
    "        except:\n",
    "            pass"
   ]
  },
  {
   "cell_type": "code",
   "execution_count": 166,
   "metadata": {},
   "outputs": [],
   "source": [
    "df['text3_lowercase'] = df.text.str.lower()"
   ]
  },
  {
   "cell_type": "code",
   "execution_count": 167,
   "metadata": {},
   "outputs": [],
   "source": [
    "# Setting for displaying the full dataframe \n",
    "\n",
    "pd.set_option('display.max_rows', None)\n",
    "pd.set_option('display.max_columns', None)\n",
    "pd.set_option('display.width', None)\n",
    "pd.set_option('display.max_colwidth', None)"
   ]
  },
  {
   "cell_type": "code",
   "execution_count": 168,
   "metadata": {},
   "outputs": [],
   "source": [
    "# Creating a dataframe with German words in lowercase for count of unique values\n",
    "\n",
    "df2 = pd.Series(df.text3_lowercase.unique())\n",
    "df2 = pd.DataFrame(df2)"
   ]
  },
  {
   "cell_type": "code",
   "execution_count": 169,
   "metadata": {},
   "outputs": [],
   "source": [
    "df2.columns = ['text_unique']\n",
    "df2['count_text'] = ''"
   ]
  },
  {
   "cell_type": "code",
   "execution_count": 170,
   "metadata": {},
   "outputs": [],
   "source": [
    "# Counting the unique words\n",
    "\n",
    "for i in range(len(df2)):\n",
    "    x = df2.text_unique[i]      # x stores each single word in text_unique\n",
    "    df2['count_text'][i] = df[df.text3_lowercase == x].text3_lowercase.count()"
   ]
  },
  {
   "cell_type": "code",
   "execution_count": 171,
   "metadata": {},
   "outputs": [],
   "source": [
    "# df['count_text'] = ''\n",
    "# df['lat'] = ''\n",
    "# df['lon'] = ''\n",
    "df['path_ID'] = ''\n",
    "#df['path_start_end'] = ''"
   ]
  },
  {
   "cell_type": "code",
   "execution_count": 172,
   "metadata": {},
   "outputs": [],
   "source": [
    "# for i in range(len(df2)):\n",
    "#     x = df2.text_unique[i]\n",
    "#     for j in range(len(df)):\n",
    "#         if df.text3_lowercase[j] == x:\n",
    "#             df['count_text'][j] = df2.count_text[i] "
   ]
  },
  {
   "cell_type": "code",
   "execution_count": 173,
   "metadata": {},
   "outputs": [],
   "source": [
    "df3 = pd.read_csv('coordinates.csv', sep = ';')"
   ]
  },
  {
   "cell_type": "code",
   "execution_count": 174,
   "metadata": {},
   "outputs": [],
   "source": [
    "df3 = df3.drop(['no', 'angle', 'Unnamed: 4', 'Unnamed: 5', 'Unnamed: 6', 'Unnamed: 7'], axis = 1)"
   ]
  },
  {
   "cell_type": "code",
   "execution_count": 175,
   "metadata": {},
   "outputs": [],
   "source": [
    "df2 = pd.concat([df2, df3], axis = 1)"
   ]
  },
  {
   "cell_type": "code",
   "execution_count": 176,
   "metadata": {},
   "outputs": [
    {
     "output_type": "execute_result",
     "data": {
      "text/plain": [
       "   rank     text    text2 text3_lowercase path_ID\n",
       "0     0       Es      war              es        \n",
       "1     1      war   einmal             war        \n",
       "2     2   einmal      ein          einmal        \n",
       "3     3      ein  kleiner             ein        \n",
       "4     4  kleiner    Junge         kleiner        "
      ],
      "text/html": "<div>\n<style scoped>\n    .dataframe tbody tr th:only-of-type {\n        vertical-align: middle;\n    }\n\n    .dataframe tbody tr th {\n        vertical-align: top;\n    }\n\n    .dataframe thead th {\n        text-align: right;\n    }\n</style>\n<table border=\"1\" class=\"dataframe\">\n  <thead>\n    <tr style=\"text-align: right;\">\n      <th></th>\n      <th>rank</th>\n      <th>text</th>\n      <th>text2</th>\n      <th>text3_lowercase</th>\n      <th>path_ID</th>\n    </tr>\n  </thead>\n  <tbody>\n    <tr>\n      <th>0</th>\n      <td>0</td>\n      <td>Es</td>\n      <td>war</td>\n      <td>es</td>\n      <td></td>\n    </tr>\n    <tr>\n      <th>1</th>\n      <td>1</td>\n      <td>war</td>\n      <td>einmal</td>\n      <td>war</td>\n      <td></td>\n    </tr>\n    <tr>\n      <th>2</th>\n      <td>2</td>\n      <td>einmal</td>\n      <td>ein</td>\n      <td>einmal</td>\n      <td></td>\n    </tr>\n    <tr>\n      <th>3</th>\n      <td>3</td>\n      <td>ein</td>\n      <td>kleiner</td>\n      <td>ein</td>\n      <td></td>\n    </tr>\n    <tr>\n      <th>4</th>\n      <td>4</td>\n      <td>kleiner</td>\n      <td>Junge</td>\n      <td>kleiner</td>\n      <td></td>\n    </tr>\n  </tbody>\n</table>\n</div>"
     },
     "metadata": {},
     "execution_count": 176
    }
   ],
   "source": [
    "df.head(5)"
   ]
  },
  {
   "cell_type": "code",
   "execution_count": 177,
   "metadata": {},
   "outputs": [
    {
     "output_type": "stream",
     "name": "stderr",
     "text": [
      "<ipython-input-177-1aa7e2125a67>:3: SettingWithCopyWarning: \n",
      "A value is trying to be set on a copy of a slice from a DataFrame\n",
      "\n",
      "See the caveats in the documentation: https://pandas.pydata.org/pandas-docs/stable/user_guide/indexing.html#returning-a-view-versus-a-copy\n",
      "  df.path_ID[i] = str(df['rank'].iloc[i]) + '_' + str(df['rank'].iloc[i+1])\n",
      "<ipython-input-177-1aa7e2125a67>:5: SettingWithCopyWarning: \n",
      "A value is trying to be set on a copy of a slice from a DataFrame\n",
      "\n",
      "See the caveats in the documentation: https://pandas.pydata.org/pandas-docs/stable/user_guide/indexing.html#returning-a-view-versus-a-copy\n",
      "  df.path_ID[i] = str(df['rank'].iloc[-1]) + '_' + str(df['rank'].iloc[-1])\n"
     ]
    }
   ],
   "source": [
    "##########################\n",
    "# path_ID ist falsch zusammengesetzt! \n",
    "# Für die tatsächlichen Pfade von einem Wort zu mehreren Folgeworten muss der rank des unique_texts genommen werden!\n",
    "########################## \n",
    "\n",
    "for i in range(len(df)):\n",
    "    if i < len(df)-1:\n",
    "        df.path_ID[i] = str(df['rank'].iloc[i]) + '_' + str(df['rank'].iloc[i+1])\n",
    "    else:\n",
    "        df.path_ID[i] = str(df['rank'].iloc[-1]) + '_' + str(df['rank'].iloc[-1])"
   ]
  },
  {
   "cell_type": "code",
   "execution_count": 178,
   "metadata": {},
   "outputs": [],
   "source": [
    "df4 = df.copy()"
   ]
  },
  {
   "cell_type": "code",
   "execution_count": 179,
   "metadata": {},
   "outputs": [],
   "source": [
    "df['path_start_end'] = 'start'\n",
    "df4['path_start_end'] = 'end'"
   ]
  },
  {
   "cell_type": "code",
   "execution_count": 180,
   "metadata": {},
   "outputs": [],
   "source": [
    "df = pd.concat([df, df4])"
   ]
  },
  {
   "cell_type": "code",
   "execution_count": 181,
   "metadata": {},
   "outputs": [],
   "source": [
    "df.reset_index(drop = True, inplace = True)"
   ]
  },
  {
   "cell_type": "code",
   "execution_count": 182,
   "metadata": {},
   "outputs": [
    {
     "output_type": "execute_result",
     "data": {
      "text/plain": [
       "      rank     text    text2 text3_lowercase    path_ID path_start_end\n",
       "2593  1294      die     Welt             die  1294_1295            end\n",
       "2594  1295     Welt   wieder            welt  1295_1296            end\n",
       "2595  1296   wieder       in          wieder  1296_1297            end\n",
       "2596  1297       in  Ordnung              in  1297_1298            end\n",
       "2597  1298  Ordnung                  ordnung  1298_1298            end"
      ],
      "text/html": "<div>\n<style scoped>\n    .dataframe tbody tr th:only-of-type {\n        vertical-align: middle;\n    }\n\n    .dataframe tbody tr th {\n        vertical-align: top;\n    }\n\n    .dataframe thead th {\n        text-align: right;\n    }\n</style>\n<table border=\"1\" class=\"dataframe\">\n  <thead>\n    <tr style=\"text-align: right;\">\n      <th></th>\n      <th>rank</th>\n      <th>text</th>\n      <th>text2</th>\n      <th>text3_lowercase</th>\n      <th>path_ID</th>\n      <th>path_start_end</th>\n    </tr>\n  </thead>\n  <tbody>\n    <tr>\n      <th>2593</th>\n      <td>1294</td>\n      <td>die</td>\n      <td>Welt</td>\n      <td>die</td>\n      <td>1294_1295</td>\n      <td>end</td>\n    </tr>\n    <tr>\n      <th>2594</th>\n      <td>1295</td>\n      <td>Welt</td>\n      <td>wieder</td>\n      <td>welt</td>\n      <td>1295_1296</td>\n      <td>end</td>\n    </tr>\n    <tr>\n      <th>2595</th>\n      <td>1296</td>\n      <td>wieder</td>\n      <td>in</td>\n      <td>wieder</td>\n      <td>1296_1297</td>\n      <td>end</td>\n    </tr>\n    <tr>\n      <th>2596</th>\n      <td>1297</td>\n      <td>in</td>\n      <td>Ordnung</td>\n      <td>in</td>\n      <td>1297_1298</td>\n      <td>end</td>\n    </tr>\n    <tr>\n      <th>2597</th>\n      <td>1298</td>\n      <td>Ordnung</td>\n      <td></td>\n      <td>ordnung</td>\n      <td>1298_1298</td>\n      <td>end</td>\n    </tr>\n  </tbody>\n</table>\n</div>"
     },
     "metadata": {},
     "execution_count": 182
    }
   ],
   "source": [
    "df.tail()"
   ]
  },
  {
   "cell_type": "code",
   "execution_count": 183,
   "metadata": {},
   "outputs": [],
   "source": [
    "df.to_csv('fallada_hoppelpoppel.csv')"
   ]
  },
  {
   "cell_type": "code",
   "execution_count": 184,
   "metadata": {},
   "outputs": [],
   "source": [
    "df2.to_csv('hoppelpoppel_coordinates.csv')"
   ]
  }
 ]
}